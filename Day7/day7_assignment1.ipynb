{
 "cells": [
  {
   "cell_type": "code",
   "execution_count": 5,
   "metadata": {},
   "outputs": [
    {
     "name": "stdout",
     "output_type": "stream",
     "text": [
      "{21: 'FTP', 22: 'SSH', 23: 'telnet', 80: 'http'}\n",
      "Dictionary after swapping is :  \n",
      "{'FTP': 21, 'SSH': 22, 'telnet': 23, 'http': 80}\n"
     ]
    }
   ],
   "source": [
    "#port1 = \n",
    "\n",
    "port1 = {21:\"FTP\" ,22:\"SSH\" ,23:\"telnet\" ,80:\"http\"}\n",
    "  \n",
    "port2 = dict([(value, key) for key, value in old_dict.items()]) \n",
    "    \n",
    "print(old_dict)  \n",
    "   \n",
    "print (\"Dictionary after swapping is :  \")  \n",
    "print(new_dict) "
   ]
  },
  {
   "cell_type": "code",
   "execution_count": null,
   "metadata": {},
   "outputs": [],
   "source": []
  },
  {
   "cell_type": "code",
   "execution_count": null,
   "metadata": {},
   "outputs": [],
   "source": [
    "+"
   ]
  },
  {
   "cell_type": "code",
   "execution_count": null,
   "metadata": {},
   "outputs": [],
   "source": []
  },
  {
   "cell_type": "code",
   "execution_count": null,
   "metadata": {},
   "outputs": [],
   "source": []
  },
  {
   "cell_type": "code",
   "execution_count": null,
   "metadata": {},
   "outputs": [],
   "source": []
  }
 ],
 "metadata": {
  "kernelspec": {
   "display_name": "Python 3",
   "language": "python",
   "name": "python3"
  },
  "language_info": {
   "codemirror_mode": {
    "name": "ipython",
    "version": 3
   },
   "file_extension": ".py",
   "mimetype": "text/x-python",
   "name": "python",
   "nbconvert_exporter": "python",
   "pygments_lexer": "ipython3",
   "version": "3.7.6"
  }
 },
 "nbformat": 4,
 "nbformat_minor": 4
}
