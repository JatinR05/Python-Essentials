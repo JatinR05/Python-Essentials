{
 "cells": [
  {
   "cell_type": "code",
   "execution_count": null,
   "metadata": {},
   "outputs": [],
   "source": [
    "list1 = [10,20,30,40,50]\n",
    "list2 = [5,15,25,35,45]\n",
    "c = list1+list2\n",
    "d = len(c)\n",
    "i = 0\n",
    "while i < d-1:\n",
    "    if c[i] > c[i+1]:\n",
    "        temp = c[i]\n",
    "        c[i] = c[i+1]\n",
    "        c[i+1] = c[i]\n",
    "        i = i+1\n",
    "print(c)"
   ]
  }
 ],
 "metadata": {
  "kernelspec": {
   "display_name": "Python 3",
   "language": "python",
   "name": "python3"
  },
  "language_info": {
   "codemirror_mode": {
    "name": "ipython",
    "version": 3
   },
   "file_extension": ".py",
   "mimetype": "text/x-python",
   "name": "python",
   "nbconvert_exporter": "python",
   "pygments_lexer": "ipython3",
   "version": "3.7.6"
  }
 },
 "nbformat": 4,
 "nbformat_minor": 4
}
